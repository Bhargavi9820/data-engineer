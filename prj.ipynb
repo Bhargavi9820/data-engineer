{
 "cells": [
  {
   "cell_type": "code",
   "execution_count": null,
   "metadata": {},
   "outputs": [],
   "source": [
    "from flask import Flask, request, jsonify\n",
    "\n",
    "app = Flask(__name__)\n",
    "\n",
    "scheduled_jobs = []\n",
    "\n",
    "@app.route('/api/schedule-job', methods=['POST'])\n",
    "def schedule_job():\n",
    "    data = request.json\n",
    "    group_id = data.get(\"group_id\")\n",
    "    job_id = data.get(\"job_id\")\n",
    "    run_every = data.get(\"run_every\")\n",
    "\n",
    "  \n",
    "    if run_every == \"every_15_mins\":\n",
    "        schedule_id = \"02,12,24,36,48 * * * *\"\n",
    "    else:\n",
    "        return jsonify({\"error\": \"Unsupported interval\"}), 400\n",
    "\n",
    "    scheduled_jobs.append({\n",
    "        \"group_id\": group_id,\n",
    "        \"job_id\": job_id,\n",
    "        \"run_every\": run_every,\n",
    "        \"schedule_id\": schedule_id\n",
    "    })\n",
    "\n",
    "    return jsonify({\n",
    "        \"group_id\": group_id,\n",
    "        \"job_id\": job_id,\n",
    "        \"run_every\": run_every,\n",
    "        \"schedule_id\": schedule_id\n",
    "    }), 201\n",
    "\n",
    "@app.route('/api/scheduled-tasks', methods=['GET'])\n",
    "def get_scheduled_tasks():\n",
    "    return jsonify({\"scheduled_tasks\": scheduled_jobs}), 200\n",
    "\n",
    "if __name__ == '__main__':\n",
    "    app.run(debug=True)\n",
    "\n"
   ]
  },
  {
   "cell_type": "code",
   "execution_count": null,
   "metadata": {},
   "outputs": [],
   "source": []
  }
 ],
 "metadata": {
  "language_info": {
   "name": "python"
  }
 },
 "nbformat": 4,
 "nbformat_minor": 2
}
